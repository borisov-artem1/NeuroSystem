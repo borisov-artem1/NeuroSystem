{
 "cells": [
  {
   "cell_type": "code",
   "id": "initial_id",
   "metadata": {
    "collapsed": true,
    "ExecuteTime": {
     "end_time": "2025-04-27T12:07:08.316725Z",
     "start_time": "2025-04-27T12:07:08.203288Z"
    }
   },
   "source": [
    "from sklearn.preprocessing import StandardScaler\n",
    "from sklearn.neural_network import MLPClassifier\n",
    "from sklearn.model_selection import train_test_split\n",
    "from sklearn.metrics import accuracy_score\n",
    "import numpy as np\n",
    "import pandas as pd\n",
    "import seaborn as sns\n",
    "from sklearn.utils import shuffle\n",
    "from sklearn.metrics import confusion_matrix\n",
    "import matplotlib.pyplot as plt"
   ],
   "outputs": [],
   "execution_count": 1
  },
  {
   "metadata": {
    "ExecuteTime": {
     "end_time": "2025-04-27T12:07:08.369836Z",
     "start_time": "2025-04-27T12:07:08.329960Z"
    }
   },
   "cell_type": "code",
   "source": [
    "pd.set_option('display.max_columns', None)\n",
    "dfInit = pd.read_csv('../docs/stroke_data.csv', delimiter=',', encoding='utf-8')\n",
    "df = dfInit.copy(deep=True)\n",
    "display(df)"
   ],
   "id": "cf1e3090f6c01302",
   "outputs": [
    {
     "data": {
      "text/plain": [
       "            Age  Gender     SES  Hypertension  Heart_Disease        BMI  \\\n",
       "0     66.788137    Male  Medium             1              0  25.842521   \n",
       "1     86.393609  Female  Medium             1              1  32.531061   \n",
       "2     76.158579  Female  Medium             1              0  40.681244   \n",
       "3     72.477870  Female     Low             0              1  33.003193   \n",
       "4     59.881635    Male     Low             0              0  26.062443   \n",
       "...         ...     ...     ...           ...            ...        ...   \n",
       "9995  80.647182  Female  Medium             1              1  28.283629   \n",
       "9996  82.607321  Female  Medium             1              1  31.148301   \n",
       "9997  86.020702  Female    High             1              1  32.641037   \n",
       "9998  67.387542  Female  Medium             0              1  29.946547   \n",
       "9999  62.171151    Male    High             0              0  32.054530   \n",
       "\n",
       "      Avg_Glucose  Diabetes Smoking_Status  Stroke  \n",
       "0       96.428681         1        Current       1  \n",
       "1      133.350068         0          Never       1  \n",
       "2      111.489589         0          Never       0  \n",
       "3      125.692465         0         Former       0  \n",
       "4      123.218486         1          Never       1  \n",
       "...           ...       ...            ...     ...  \n",
       "9995   128.639802         0         Former       1  \n",
       "9996   105.025226         1        Current       1  \n",
       "9997   147.174095         0          Never       1  \n",
       "9998   112.480515         0         Former       0  \n",
       "9999    77.474113         0          Never       0  \n",
       "\n",
       "[10000 rows x 10 columns]"
      ],
      "text/html": [
       "<div>\n",
       "<style scoped>\n",
       "    .dataframe tbody tr th:only-of-type {\n",
       "        vertical-align: middle;\n",
       "    }\n",
       "\n",
       "    .dataframe tbody tr th {\n",
       "        vertical-align: top;\n",
       "    }\n",
       "\n",
       "    .dataframe thead th {\n",
       "        text-align: right;\n",
       "    }\n",
       "</style>\n",
       "<table border=\"1\" class=\"dataframe\">\n",
       "  <thead>\n",
       "    <tr style=\"text-align: right;\">\n",
       "      <th></th>\n",
       "      <th>Age</th>\n",
       "      <th>Gender</th>\n",
       "      <th>SES</th>\n",
       "      <th>Hypertension</th>\n",
       "      <th>Heart_Disease</th>\n",
       "      <th>BMI</th>\n",
       "      <th>Avg_Glucose</th>\n",
       "      <th>Diabetes</th>\n",
       "      <th>Smoking_Status</th>\n",
       "      <th>Stroke</th>\n",
       "    </tr>\n",
       "  </thead>\n",
       "  <tbody>\n",
       "    <tr>\n",
       "      <th>0</th>\n",
       "      <td>66.788137</td>\n",
       "      <td>Male</td>\n",
       "      <td>Medium</td>\n",
       "      <td>1</td>\n",
       "      <td>0</td>\n",
       "      <td>25.842521</td>\n",
       "      <td>96.428681</td>\n",
       "      <td>1</td>\n",
       "      <td>Current</td>\n",
       "      <td>1</td>\n",
       "    </tr>\n",
       "    <tr>\n",
       "      <th>1</th>\n",
       "      <td>86.393609</td>\n",
       "      <td>Female</td>\n",
       "      <td>Medium</td>\n",
       "      <td>1</td>\n",
       "      <td>1</td>\n",
       "      <td>32.531061</td>\n",
       "      <td>133.350068</td>\n",
       "      <td>0</td>\n",
       "      <td>Never</td>\n",
       "      <td>1</td>\n",
       "    </tr>\n",
       "    <tr>\n",
       "      <th>2</th>\n",
       "      <td>76.158579</td>\n",
       "      <td>Female</td>\n",
       "      <td>Medium</td>\n",
       "      <td>1</td>\n",
       "      <td>0</td>\n",
       "      <td>40.681244</td>\n",
       "      <td>111.489589</td>\n",
       "      <td>0</td>\n",
       "      <td>Never</td>\n",
       "      <td>0</td>\n",
       "    </tr>\n",
       "    <tr>\n",
       "      <th>3</th>\n",
       "      <td>72.477870</td>\n",
       "      <td>Female</td>\n",
       "      <td>Low</td>\n",
       "      <td>0</td>\n",
       "      <td>1</td>\n",
       "      <td>33.003193</td>\n",
       "      <td>125.692465</td>\n",
       "      <td>0</td>\n",
       "      <td>Former</td>\n",
       "      <td>0</td>\n",
       "    </tr>\n",
       "    <tr>\n",
       "      <th>4</th>\n",
       "      <td>59.881635</td>\n",
       "      <td>Male</td>\n",
       "      <td>Low</td>\n",
       "      <td>0</td>\n",
       "      <td>0</td>\n",
       "      <td>26.062443</td>\n",
       "      <td>123.218486</td>\n",
       "      <td>1</td>\n",
       "      <td>Never</td>\n",
       "      <td>1</td>\n",
       "    </tr>\n",
       "    <tr>\n",
       "      <th>...</th>\n",
       "      <td>...</td>\n",
       "      <td>...</td>\n",
       "      <td>...</td>\n",
       "      <td>...</td>\n",
       "      <td>...</td>\n",
       "      <td>...</td>\n",
       "      <td>...</td>\n",
       "      <td>...</td>\n",
       "      <td>...</td>\n",
       "      <td>...</td>\n",
       "    </tr>\n",
       "    <tr>\n",
       "      <th>9995</th>\n",
       "      <td>80.647182</td>\n",
       "      <td>Female</td>\n",
       "      <td>Medium</td>\n",
       "      <td>1</td>\n",
       "      <td>1</td>\n",
       "      <td>28.283629</td>\n",
       "      <td>128.639802</td>\n",
       "      <td>0</td>\n",
       "      <td>Former</td>\n",
       "      <td>1</td>\n",
       "    </tr>\n",
       "    <tr>\n",
       "      <th>9996</th>\n",
       "      <td>82.607321</td>\n",
       "      <td>Female</td>\n",
       "      <td>Medium</td>\n",
       "      <td>1</td>\n",
       "      <td>1</td>\n",
       "      <td>31.148301</td>\n",
       "      <td>105.025226</td>\n",
       "      <td>1</td>\n",
       "      <td>Current</td>\n",
       "      <td>1</td>\n",
       "    </tr>\n",
       "    <tr>\n",
       "      <th>9997</th>\n",
       "      <td>86.020702</td>\n",
       "      <td>Female</td>\n",
       "      <td>High</td>\n",
       "      <td>1</td>\n",
       "      <td>1</td>\n",
       "      <td>32.641037</td>\n",
       "      <td>147.174095</td>\n",
       "      <td>0</td>\n",
       "      <td>Never</td>\n",
       "      <td>1</td>\n",
       "    </tr>\n",
       "    <tr>\n",
       "      <th>9998</th>\n",
       "      <td>67.387542</td>\n",
       "      <td>Female</td>\n",
       "      <td>Medium</td>\n",
       "      <td>0</td>\n",
       "      <td>1</td>\n",
       "      <td>29.946547</td>\n",
       "      <td>112.480515</td>\n",
       "      <td>0</td>\n",
       "      <td>Former</td>\n",
       "      <td>0</td>\n",
       "    </tr>\n",
       "    <tr>\n",
       "      <th>9999</th>\n",
       "      <td>62.171151</td>\n",
       "      <td>Male</td>\n",
       "      <td>High</td>\n",
       "      <td>0</td>\n",
       "      <td>0</td>\n",
       "      <td>32.054530</td>\n",
       "      <td>77.474113</td>\n",
       "      <td>0</td>\n",
       "      <td>Never</td>\n",
       "      <td>0</td>\n",
       "    </tr>\n",
       "  </tbody>\n",
       "</table>\n",
       "<p>10000 rows × 10 columns</p>\n",
       "</div>"
      ]
     },
     "metadata": {},
     "output_type": "display_data"
    }
   ],
   "execution_count": 2
  },
  {
   "metadata": {
    "ExecuteTime": {
     "end_time": "2025-04-27T12:07:08.562034Z",
     "start_time": "2025-04-27T12:07:08.527069Z"
    }
   },
   "cell_type": "code",
   "source": [
    "genderDict = {'Male': 0, 'Female': 1}\n",
    "sesDict = {'Medium': 0, 'Low': 1, 'High': 2}\n",
    "smokingDict = {'Current': 0, 'Never': 1, 'Former' : 3}\n",
    "\n",
    "df[\"Gender\"] = df[\"Gender\"].map(lambda x: genderDict[x])\n",
    "df[\"Smoking_Status\"] = df[\"Smoking_Status\"].map(lambda x: smokingDict[x])\n",
    "df[\"SES\"] = df[\"SES\"].map(lambda x: sesDict[x])\n",
    "display(df)"
   ],
   "id": "f0bb712143761982",
   "outputs": [
    {
     "data": {
      "text/plain": [
       "            Age  Gender  SES  Hypertension  Heart_Disease        BMI  \\\n",
       "0     66.788137       0    0             1              0  25.842521   \n",
       "1     86.393609       1    0             1              1  32.531061   \n",
       "2     76.158579       1    0             1              0  40.681244   \n",
       "3     72.477870       1    1             0              1  33.003193   \n",
       "4     59.881635       0    1             0              0  26.062443   \n",
       "...         ...     ...  ...           ...            ...        ...   \n",
       "9995  80.647182       1    0             1              1  28.283629   \n",
       "9996  82.607321       1    0             1              1  31.148301   \n",
       "9997  86.020702       1    2             1              1  32.641037   \n",
       "9998  67.387542       1    0             0              1  29.946547   \n",
       "9999  62.171151       0    2             0              0  32.054530   \n",
       "\n",
       "      Avg_Glucose  Diabetes  Smoking_Status  Stroke  \n",
       "0       96.428681         1               0       1  \n",
       "1      133.350068         0               1       1  \n",
       "2      111.489589         0               1       0  \n",
       "3      125.692465         0               3       0  \n",
       "4      123.218486         1               1       1  \n",
       "...           ...       ...             ...     ...  \n",
       "9995   128.639802         0               3       1  \n",
       "9996   105.025226         1               0       1  \n",
       "9997   147.174095         0               1       1  \n",
       "9998   112.480515         0               3       0  \n",
       "9999    77.474113         0               1       0  \n",
       "\n",
       "[10000 rows x 10 columns]"
      ],
      "text/html": [
       "<div>\n",
       "<style scoped>\n",
       "    .dataframe tbody tr th:only-of-type {\n",
       "        vertical-align: middle;\n",
       "    }\n",
       "\n",
       "    .dataframe tbody tr th {\n",
       "        vertical-align: top;\n",
       "    }\n",
       "\n",
       "    .dataframe thead th {\n",
       "        text-align: right;\n",
       "    }\n",
       "</style>\n",
       "<table border=\"1\" class=\"dataframe\">\n",
       "  <thead>\n",
       "    <tr style=\"text-align: right;\">\n",
       "      <th></th>\n",
       "      <th>Age</th>\n",
       "      <th>Gender</th>\n",
       "      <th>SES</th>\n",
       "      <th>Hypertension</th>\n",
       "      <th>Heart_Disease</th>\n",
       "      <th>BMI</th>\n",
       "      <th>Avg_Glucose</th>\n",
       "      <th>Diabetes</th>\n",
       "      <th>Smoking_Status</th>\n",
       "      <th>Stroke</th>\n",
       "    </tr>\n",
       "  </thead>\n",
       "  <tbody>\n",
       "    <tr>\n",
       "      <th>0</th>\n",
       "      <td>66.788137</td>\n",
       "      <td>0</td>\n",
       "      <td>0</td>\n",
       "      <td>1</td>\n",
       "      <td>0</td>\n",
       "      <td>25.842521</td>\n",
       "      <td>96.428681</td>\n",
       "      <td>1</td>\n",
       "      <td>0</td>\n",
       "      <td>1</td>\n",
       "    </tr>\n",
       "    <tr>\n",
       "      <th>1</th>\n",
       "      <td>86.393609</td>\n",
       "      <td>1</td>\n",
       "      <td>0</td>\n",
       "      <td>1</td>\n",
       "      <td>1</td>\n",
       "      <td>32.531061</td>\n",
       "      <td>133.350068</td>\n",
       "      <td>0</td>\n",
       "      <td>1</td>\n",
       "      <td>1</td>\n",
       "    </tr>\n",
       "    <tr>\n",
       "      <th>2</th>\n",
       "      <td>76.158579</td>\n",
       "      <td>1</td>\n",
       "      <td>0</td>\n",
       "      <td>1</td>\n",
       "      <td>0</td>\n",
       "      <td>40.681244</td>\n",
       "      <td>111.489589</td>\n",
       "      <td>0</td>\n",
       "      <td>1</td>\n",
       "      <td>0</td>\n",
       "    </tr>\n",
       "    <tr>\n",
       "      <th>3</th>\n",
       "      <td>72.477870</td>\n",
       "      <td>1</td>\n",
       "      <td>1</td>\n",
       "      <td>0</td>\n",
       "      <td>1</td>\n",
       "      <td>33.003193</td>\n",
       "      <td>125.692465</td>\n",
       "      <td>0</td>\n",
       "      <td>3</td>\n",
       "      <td>0</td>\n",
       "    </tr>\n",
       "    <tr>\n",
       "      <th>4</th>\n",
       "      <td>59.881635</td>\n",
       "      <td>0</td>\n",
       "      <td>1</td>\n",
       "      <td>0</td>\n",
       "      <td>0</td>\n",
       "      <td>26.062443</td>\n",
       "      <td>123.218486</td>\n",
       "      <td>1</td>\n",
       "      <td>1</td>\n",
       "      <td>1</td>\n",
       "    </tr>\n",
       "    <tr>\n",
       "      <th>...</th>\n",
       "      <td>...</td>\n",
       "      <td>...</td>\n",
       "      <td>...</td>\n",
       "      <td>...</td>\n",
       "      <td>...</td>\n",
       "      <td>...</td>\n",
       "      <td>...</td>\n",
       "      <td>...</td>\n",
       "      <td>...</td>\n",
       "      <td>...</td>\n",
       "    </tr>\n",
       "    <tr>\n",
       "      <th>9995</th>\n",
       "      <td>80.647182</td>\n",
       "      <td>1</td>\n",
       "      <td>0</td>\n",
       "      <td>1</td>\n",
       "      <td>1</td>\n",
       "      <td>28.283629</td>\n",
       "      <td>128.639802</td>\n",
       "      <td>0</td>\n",
       "      <td>3</td>\n",
       "      <td>1</td>\n",
       "    </tr>\n",
       "    <tr>\n",
       "      <th>9996</th>\n",
       "      <td>82.607321</td>\n",
       "      <td>1</td>\n",
       "      <td>0</td>\n",
       "      <td>1</td>\n",
       "      <td>1</td>\n",
       "      <td>31.148301</td>\n",
       "      <td>105.025226</td>\n",
       "      <td>1</td>\n",
       "      <td>0</td>\n",
       "      <td>1</td>\n",
       "    </tr>\n",
       "    <tr>\n",
       "      <th>9997</th>\n",
       "      <td>86.020702</td>\n",
       "      <td>1</td>\n",
       "      <td>2</td>\n",
       "      <td>1</td>\n",
       "      <td>1</td>\n",
       "      <td>32.641037</td>\n",
       "      <td>147.174095</td>\n",
       "      <td>0</td>\n",
       "      <td>1</td>\n",
       "      <td>1</td>\n",
       "    </tr>\n",
       "    <tr>\n",
       "      <th>9998</th>\n",
       "      <td>67.387542</td>\n",
       "      <td>1</td>\n",
       "      <td>0</td>\n",
       "      <td>0</td>\n",
       "      <td>1</td>\n",
       "      <td>29.946547</td>\n",
       "      <td>112.480515</td>\n",
       "      <td>0</td>\n",
       "      <td>3</td>\n",
       "      <td>0</td>\n",
       "    </tr>\n",
       "    <tr>\n",
       "      <th>9999</th>\n",
       "      <td>62.171151</td>\n",
       "      <td>0</td>\n",
       "      <td>2</td>\n",
       "      <td>0</td>\n",
       "      <td>0</td>\n",
       "      <td>32.054530</td>\n",
       "      <td>77.474113</td>\n",
       "      <td>0</td>\n",
       "      <td>1</td>\n",
       "      <td>0</td>\n",
       "    </tr>\n",
       "  </tbody>\n",
       "</table>\n",
       "<p>10000 rows × 10 columns</p>\n",
       "</div>"
      ]
     },
     "metadata": {},
     "output_type": "display_data"
    }
   ],
   "execution_count": 3
  },
  {
   "metadata": {
    "ExecuteTime": {
     "end_time": "2025-04-27T12:07:08.597533Z",
     "start_time": "2025-04-27T12:07:08.585037Z"
    }
   },
   "cell_type": "code",
   "source": [
    "x = df.drop([\"Stroke\"], axis=1)\n",
    "y = df[\"Stroke\"]\n",
    "\n",
    "xTrain, xTest, yTrain, yTest = train_test_split(x, y, test_size=0.3, random_state=42)"
   ],
   "id": "ef1189902ab1bab7",
   "outputs": [],
   "execution_count": 4
  },
  {
   "metadata": {
    "ExecuteTime": {
     "end_time": "2025-04-27T12:07:08.749493Z",
     "start_time": "2025-04-27T12:07:08.735644Z"
    }
   },
   "cell_type": "code",
   "source": [
    "scaler = StandardScaler()\n",
    "scaler.fit(xTrain)\n",
    "xTrainTransform = scaler.transform(xTrain)\n",
    "xTestTransform = scaler.transform(xTest)"
   ],
   "id": "a3034e181a74846f",
   "outputs": [],
   "execution_count": 5
  },
  {
   "metadata": {
    "ExecuteTime": {
     "end_time": "2025-04-27T12:07:08.785168Z",
     "start_time": "2025-04-27T12:07:08.781149Z"
    }
   },
   "cell_type": "code",
   "source": [
    "def calc_accuracy(mlpcClf: MLPClassifier):\n",
    "    mlpcClf.fit(xTrainTransform, yTrain)\n",
    "    return mlpcClf.score(xTestTransform, yTest)"
   ],
   "id": "44619d1a2481287b",
   "outputs": [],
   "execution_count": 6
  },
  {
   "metadata": {},
   "cell_type": "markdown",
   "source": "",
   "id": "989806b09818422"
  },
  {
   "metadata": {
    "ExecuteTime": {
     "end_time": "2025-04-27T12:07:52.338627Z",
     "start_time": "2025-04-27T12:07:08.838605Z"
    }
   },
   "cell_type": "code",
   "source": [
    "hiddenLayerSize = [(50,), (100,), (150,), (200,), (250,), (300,), (350,), (400,), (450,), (500,), (750,), (1000,)]\n",
    "\n",
    "accuracies = []\n",
    "for LayerSize in hiddenLayerSize:\n",
    "    mlpcClf = MLPClassifier(\n",
    "        solver='adam',\n",
    "        hidden_layer_sizes=LayerSize,\n",
    "        max_iter=1000,\n",
    "        early_stopping=True,\n",
    "        random_state=42\n",
    "    )\n",
    "    accuracies.append(calc_accuracy(mlpcClf))\n",
    "    print(f'layerSize={LayerSize}, accuracy: {calc_accuracy(mlpcClf)}')\n",
    "\n",
    "layerSizes = [size[0] for size in hiddenLayerSize]\n",
    "\n",
    "plt.figure(figsize=(10, 8))\n",
    "plt.plot(layerSizes, accuracies, marker='o')\n",
    "plt.title('the dependence of accuracy on the number of neurons')\n",
    "plt.xlabel('the number of neurons in the hidden layer')\n",
    "plt.ylabel('accuracy')"
   ],
   "id": "f5f8680a78645516",
   "outputs": [
    {
     "name": "stdout",
     "output_type": "stream",
     "text": [
      "layerSize=(50,), accuracy: 0.7743333333333333\n",
      "layerSize=(100,), accuracy: 0.7946666666666666\n",
      "layerSize=(150,), accuracy: 0.794\n",
      "layerSize=(200,), accuracy: 0.7933333333333333\n",
      "layerSize=(250,), accuracy: 0.7963333333333333\n",
      "layerSize=(300,), accuracy: 0.7953333333333333\n",
      "layerSize=(350,), accuracy: 0.7926666666666666\n",
      "layerSize=(400,), accuracy: 0.7916666666666666\n",
      "layerSize=(450,), accuracy: 0.7946666666666666\n",
      "layerSize=(500,), accuracy: 0.7926666666666666\n",
      "layerSize=(750,), accuracy: 0.7966666666666666\n",
      "layerSize=(1000,), accuracy: 0.7943333333333333\n"
     ]
    },
    {
     "data": {
      "text/plain": [
       "Text(0, 0.5, 'accuracy')"
      ]
     },
     "execution_count": 7,
     "metadata": {},
     "output_type": "execute_result"
    },
    {
     "data": {
      "text/plain": [
       "<Figure size 1000x800 with 1 Axes>"
      ],
      "image/png": "[encoded data removed]"
     },
     "metadata": {},
     "output_type": "display_data"
    }
   ],
   "execution_count": 7
  },
  {
   "metadata": {
    "ExecuteTime": {
     "end_time": "2025-04-27T12:08:32.023512Z",
     "start_time": "2025-04-27T12:07:52.354056Z"
    }
   },
   "cell_type": "code",
   "source": [
    "solvers = ['sgd', 'adam', 'lbfgs']\n",
    "for solver in solvers:\n",
    "    mlpcClf = MLPClassifier(\n",
    "        solver=solver,\n",
    "        hidden_layer_sizes=(250,),\n",
    "        max_iter=1000,\n",
    "        early_stopping=True,\n",
    "        random_state=42\n",
    "    )\n",
    "    print(f'solver={solver}, accuracy: {calc_accuracy(mlpcClf)}')"
   ],
   "id": "f73a6c538a5553b6",
   "outputs": [
    {
     "name": "stdout",
     "output_type": "stream",
     "text": [
      "solver=sgd, accuracy: 0.7903333333333333\n",
      "solver=adam, accuracy: 0.7963333333333333\n",
      "solver=lbfgs, accuracy: 0.72\n"
     ]
    },
    {
     "name": "stderr",
     "output_type": "stream",
     "text": [
      "/home/artemborisov/PycharmProjects/PythonProject/.venv/lib/python3.12/site-packages/sklearn/neural_network/_multilayer_perceptron.py:546: ConvergenceWarning: lbfgs failed to converge (status=1):\n",
      "STOP: TOTAL NO. of ITERATIONS REACHED LIMIT.\n",
      "\n",
      "Increase the number of iterations (max_iter) or scale the data as shown in:\n",
      "    https://scikit-learn.org/stable/modules/preprocessing.html\n",
      "  self.n_iter_ = _check_optimize_result(\"lbfgs\", opt_res, self.max_iter)\n"
     ]
    }
   ],
   "execution_count": 8
  },
  {
   "metadata": {
    "ExecuteTime": {
     "end_time": "2025-04-27T12:08:40.583423Z",
     "start_time": "2025-04-27T12:08:32.140513Z"
    }
   },
   "cell_type": "code",
   "source": [
    "activationFunctions = [\n",
    "    'identity',\n",
    "    'logistic',\n",
    "    'tanh',\n",
    "    'relu',\n",
    "]\n",
    "for func in activationFunctions:\n",
    "    mlpcClf = MLPClassifier(\n",
    "        solver='adam',\n",
    "        hidden_layer_sizes=(250,),\n",
    "        max_iter=1000,\n",
    "        early_stopping=True,\n",
    "        activation=func,\n",
    "        random_state=42\n",
    "    )\n",
    "    print (f'func={func}, accuracy: {calc_accuracy(mlpcClf)}')"
   ],
   "id": "966600b9d0832184",
   "outputs": [
    {
     "name": "stdout",
     "output_type": "stream",
     "text": [
      "func=identity, accuracy: 0.789\n",
      "func=logistic, accuracy: 0.7943333333333333\n",
      "func=tanh, accuracy: 0.7973333333333333\n",
      "func=relu, accuracy: 0.7963333333333333\n"
     ]
    }
   ],
   "execution_count": 9
  },
  {
   "metadata": {
    "ExecuteTime": {
     "end_time": "2025-04-27T12:09:49.855125Z",
     "start_time": "2025-04-27T12:08:40.655427Z"
    }
   },
   "cell_type": "code",
   "source": [
    "iterationsArr = [100, 150, 200, 250, 300, 350, 400, 450, 500, 550, 600, 650, 700, 800, 850, 900, 950, 1000]\n",
    "\n",
    "accuracies = []\n",
    "for iter in iterationsArr:\n",
    "    mlpcClf = MLPClassifier(\n",
    "        solver='adam',\n",
    "        hidden_layer_sizes=(250,),\n",
    "        max_iter=iter,\n",
    "        early_stopping=True,\n",
    "        activation='tanh',\n",
    "        random_state=42\n",
    "    )\n",
    "    accuracies.append(calc_accuracy(mlpcClf))\n",
    "    print(f'iter={iter}, accuracy: {calc_accuracy(mlpcClf)}')\n",
    "\n",
    "plt.figure(figsize=(10, 8))\n",
    "plt.plot(iterationsArr, accuracies, marker='o')\n",
    "plt.title('the dependence of accuracy on the number of iterations')\n",
    "plt.xlabel('iterations')\n",
    "plt.ylabel('accuracy')\n",
    "plt.show()"
   ],
   "id": "3e74cdce4ca0fcb9",
   "outputs": [
    {
     "name": "stdout",
     "output_type": "stream",
     "text": [
      "iter=100, accuracy: 0.7973333333333333\n",
      "iter=150, accuracy: 0.7973333333333333\n",
      "iter=200, accuracy: 0.7973333333333333\n",
      "iter=250, accuracy: 0.7973333333333333\n",
      "iter=300, accuracy: 0.7973333333333333\n",
      "iter=350, accuracy: 0.7973333333333333\n",
      "iter=400, accuracy: 0.7973333333333333\n",
      "iter=450, accuracy: 0.7973333333333333\n",
      "iter=500, accuracy: 0.7973333333333333\n",
      "iter=550, accuracy: 0.7973333333333333\n",
      "iter=600, accuracy: 0.7973333333333333\n",
      "iter=650, accuracy: 0.7973333333333333\n",
      "iter=700, accuracy: 0.7973333333333333\n",
      "iter=800, accuracy: 0.7973333333333333\n",
      "iter=850, accuracy: 0.7973333333333333\n",
      "iter=900, accuracy: 0.7973333333333333\n",
      "iter=950, accuracy: 0.7973333333333333\n",
      "iter=1000, accuracy: 0.7973333333333333\n"
     ]
    },
    {
     "data": {
      "text/plain": [
       "<Figure size 1000x800 with 1 Axes>"
      ],
      "image/png": "[encoded data removed]"
     },
     "metadata": {},
     "output_type": "display_data"
    }
   ],
   "execution_count": 10
  },
  {
   "metadata": {
    "ExecuteTime": {
     "end_time": "2025-04-27T12:09:52.171184Z",
     "start_time": "2025-04-27T12:09:49.879904Z"
    }
   },
   "cell_type": "code",
   "source": [
    "mlpcClf = MLPClassifier(\n",
    "    solver='adam',\n",
    "    hidden_layer_sizes=(250,),\n",
    "    max_iter=100,\n",
    "    early_stopping=True,\n",
    "    activation='tanh',\n",
    "    random_state=42\n",
    ")\n",
    "print(f'accuracy: {calc_accuracy(mlpcClf)}')"
   ],
   "id": "a12d8f09e62d0b92",
   "outputs": [
    {
     "name": "stdout",
     "output_type": "stream",
     "text": [
      "accuracy: 0.7973333333333333\n"
     ]
    }
   ],
   "execution_count": 11
  },
  {
   "metadata": {
    "ExecuteTime": {
     "end_time": "2025-04-27T12:09:52.375095Z",
     "start_time": "2025-04-27T12:09:52.192209Z"
    }
   },
   "cell_type": "code",
   "source": [
    "classes_name = ['0', '1']\n",
    "\n",
    "cm = pd.DataFrame(\n",
    "    confusion_matrix(yTest, mlpcClf.predict(xTestTransform)),\n",
    "    columns=classes_name,\n",
    "    index=classes_name,\n",
    ")\n",
    "\n",
    "sns.heatmap(cm, annot=True, fmt='d')\n",
    "plt.show()"
   ],
   "id": "ae5c06a4e60a6899",
   "outputs": [
    {
     "data": {
      "text/plain": [
       "<Figure size 640x480 with 2 Axes>"
      ],
      "image/png": "[encoded data removed]"
     },
     "metadata": {},
     "output_type": "display_data"
    }
   ],
   "execution_count": 12
  }
 ],
 "metadata": {
  "kernelspec": {
   "display_name": "Python 3",
   "language": "python",
   "name": "python3"
  },
  "language_info": {
   "codemirror_mode": {
    "name": "ipython",
    "version": 2
   },
   "file_extension": ".py",
   "mimetype": "text/x-python",
   "name": "python",
   "nbconvert_exporter": "python",
   "pygments_lexer": "ipython2",
   "version": "2.7.6"
  }
 },
 "nbformat": 4,
 "nbformat_minor": 5
}
